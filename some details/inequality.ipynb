{
 "cells": [
  {
   "cell_type": "code",
   "execution_count": 5,
   "metadata": {},
   "outputs": [],
   "source": [
    "import numpy as np\n",
    "import time\n",
    "import matplotlib.pyplot as plt\n",
    "import ot \n",
    "\n",
    "import sys\n",
    "sys.path.append(\"../src\")\n",
    "from utility import HCP,IPRHCP,rand_projections"
   ]
  },
  {
   "cell_type": "markdown",
   "metadata": {},
   "source": [
    "#### Firstly, we prove: if we replace orthogonal matrix with an all-ones matrix, we have $IPRHCP_{2,2} = \\sqrt{2}SW_2$ "
   ]
  },
  {
   "cell_type": "code",
   "execution_count": null,
   "metadata": {},
   "outputs": [],
   "source": [
    "d = 5\n",
    "n = 1000"
   ]
  },
  {
   "cell_type": "code",
   "execution_count": 9,
   "metadata": {},
   "outputs": [],
   "source": [
    "## equal weights IPRHCP\n",
    "def IPRHCP_J(X, Y, q=2, nslice=500):\n",
    "\n",
    "    d = X.shape[1]\n",
    "    res = 0\n",
    "\n",
    "        \n",
    "    ## random directions may be faster\n",
    "    proj = rand_projections(d, nslice)\n",
    "    Xp = X@proj.T\n",
    "    Yp = Y@proj.T\n",
    "\n",
    "    for i in range(nslice):\n",
    "        Xi = np.zeros((n,q))\n",
    "        Yi = np.zeros((n,q))\n",
    "        for j in range(q):\n",
    "            Xi[:,j] = Xp[:,i]\n",
    "            Yi[:,j] = Yp[:,i]\n",
    "        res += HCP(Xi, Yi)**2\n",
    "\n",
    "    return np.sqrt(res/nslice)"
   ]
  },
  {
   "cell_type": "code",
   "execution_count": 16,
   "metadata": {},
   "outputs": [
    {
     "name": "stdout",
     "output_type": "stream",
     "text": [
      "0.01605136491211767\n",
      "0.035479340889759126\n",
      "4.19545929195575e-05\n",
      "0.0190594800770707\n",
      "0.017204443367046185\n"
     ]
    }
   ],
   "source": [
    "d = 5\n",
    "n = 1000\n",
    "np.random.seed(42)\n",
    "\n",
    "    \n",
    "for i in range(5):\n",
    "    # guassian and uniform\n",
    "    x = np.random.randn(n,d)\n",
    "    y = np.random.rand(n,d) +10\n",
    "\n",
    "    # SW\n",
    "    t1 = ot.sliced.sliced_wasserstein_distance(x, y, seed=2022, n_projections=500) \n",
    "\n",
    "    # IPRHCP\n",
    "    t2 = IPRHCP_J(x,y)\n",
    "\n",
    "    print(abs(np.sqrt(2)*t1/t2-1))\n"
   ]
  },
  {
   "cell_type": "markdown",
   "metadata": {},
   "source": [
    "#### Secondly, we prove $IPRHCP_{2,q} \\geq \\sqrt{q}SW_2$, and this equality can be achieved."
   ]
  },
  {
   "cell_type": "code",
   "execution_count": 30,
   "metadata": {},
   "outputs": [
    {
     "name": "stdout",
     "output_type": "stream",
     "text": [
      "1.0012672176867758\n",
      "1.0007622581190594\n",
      "1.0004999605723135\n",
      "1.0009290858583548\n",
      "1.0015233203843477\n"
     ]
    }
   ],
   "source": [
    "## q = 2\n",
    "d = 20\n",
    "n = 1000\n",
    "np.random.seed(42)\n",
    "\n",
    "    \n",
    "for i in range(5):\n",
    "    # guassian and uniform\n",
    "    x = np.random.randn(n,d)\n",
    "    y = np.random.rand(n,d)*10\n",
    "\n",
    "    # SW\n",
    "    t1 = ot.sliced.sliced_wasserstein_distance(x, y, seed=2022, n_projections=1000) \n",
    "\n",
    "    # IPRHCP\n",
    "    t2 = IPRHCP(x,y,nslice=1000)\n",
    "\n",
    "    print(t2/(np.sqrt(2)*t1))\n"
   ]
  },
  {
   "cell_type": "code",
   "execution_count": 29,
   "metadata": {},
   "outputs": [
    {
     "name": "stdout",
     "output_type": "stream",
     "text": [
      "1.0425707265033552\n",
      "1.0411260088653582\n",
      "1.0412894332682217\n",
      "1.0428737381899336\n",
      "1.0419773827620398\n"
     ]
    }
   ],
   "source": [
    "# q = 10\n",
    "d = 20\n",
    "n = 1000\n",
    "np.random.seed(42)\n",
    "\n",
    "    \n",
    "for i in range(5):\n",
    "    # guassian and uniform\n",
    "    x = np.random.randn(n,d)\n",
    "    y = np.random.rand(n,d)*10\n",
    "\n",
    "    # SW\n",
    "    t1 = ot.sliced.sliced_wasserstein_distance(x, y, seed=2022, n_projections=1000) \n",
    "\n",
    "    # IPRHCP\n",
    "    t2 = IPRHCP(x,y,q=10,nslice=1000)\n",
    "\n",
    "    print(t2/(np.sqrt(10)*t1))\n"
   ]
  }
 ],
 "metadata": {
  "interpreter": {
   "hash": "d5d3d613f2723745b5758a4ea44078663ab242d9e292984c8acc44055cdc038a"
  },
  "kernelspec": {
   "display_name": "Python 3.8.8 ('base')",
   "language": "python",
   "name": "python3"
  },
  "language_info": {
   "codemirror_mode": {
    "name": "ipython",
    "version": 3
   },
   "file_extension": ".py",
   "mimetype": "text/x-python",
   "name": "python",
   "nbconvert_exporter": "python",
   "pygments_lexer": "ipython3",
   "version": "3.8.8"
  }
 },
 "nbformat": 4,
 "nbformat_minor": 2
}
